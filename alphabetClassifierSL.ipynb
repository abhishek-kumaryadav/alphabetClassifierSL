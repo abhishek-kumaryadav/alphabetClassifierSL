{
  "nbformat": 4,
  "nbformat_minor": 0,
  "metadata": {
    "colab": {
      "name": "alphabetClassifierSL",
      "provenance": [],
      "collapsed_sections": []
    },
    "kernelspec": {
      "name": "python3",
      "display_name": "Python 3"
    }
  },
  "cells": [
    {
      "cell_type": "code",
      "metadata": {
        "id": "FcZj0An6RAw6"
      },
      "source": [
        "!pip install -q kaggle"
      ],
      "execution_count": null,
      "outputs": []
    },
    {
      "cell_type": "markdown",
      "metadata": {
        "id": "pE7j6mYD3EcS"
      },
      "source": [
        "To download dataset from kaggle upload your kaggle.json file below:"
      ]
    },
    {
      "cell_type": "code",
      "metadata": {
        "id": "4MxIsxYKU5Qt"
      },
      "source": [
        "from google.colab import files\r\n",
        "files.upload()\r\n",
        "!mkdir ~/.kaggle\r\n",
        "\r\n",
        "!cp kaggle.json ~/.kaggle/\r\n",
        "!chmod 600 /root/.kaggle/kaggle.json\r\n",
        "!kaggle datasets download -d sachinpatel21/az-handwritten-alphabets-in-csv-format"
      ],
      "execution_count": null,
      "outputs": []
    },
    {
      "cell_type": "markdown",
      "metadata": {
        "id": "njRfs5rx3MmN"
      },
      "source": [
        "Downloading dataset saved in Gdrive to /content/"
      ]
    },
    {
      "cell_type": "code",
      "metadata": {
        "colab": {
          "base_uri": "https://localhost:8080/"
        },
        "id": "ji9G17nAWQiq",
        "outputId": "dc577e2e-89a1-4653-8e36-4776197fa6bd"
      },
      "source": [
        "from google.colab import drive\r\n",
        "drive.mount('/content/drive')\r\n",
        "!cp /content/drive/My\\ Drive/az-handwritten-alphabets-in-csv-format.zip /content/\r\n",
        "!unzip /content/az-handwritten-alphabets-in-csv-format.zip"
      ],
      "execution_count": 1,
      "outputs": [
        {
          "output_type": "stream",
          "text": [
            "Mounted at /content/drive\n",
            "Archive:  /content/az-handwritten-alphabets-in-csv-format.zip\n",
            "  inflating: A_Z Handwritten Data.csv  \n",
            "  inflating: A_Z Handwritten Data/A_Z Handwritten Data.csv  \n"
          ],
          "name": "stdout"
        }
      ]
    },
    {
      "cell_type": "markdown",
      "metadata": {
        "id": "0CWv6L_s3UJz"
      },
      "source": [
        "**Importing Required Libraries**"
      ]
    },
    {
      "cell_type": "code",
      "metadata": {
        "id": "b98q8FqzXRVu"
      },
      "source": [
        "import pandas as pd\r\n",
        "import numpy as np\r\n",
        "import matplotlib.pyplot as plt\r\n",
        "import seaborn as sns\r\n",
        "from imblearn.under_sampling import NearMiss\r\n",
        "from sklearn.preprocessing import LabelBinarizer\r\n",
        "from sklearn.model_selection import train_test_split\r\n",
        "import keras\r\n",
        "from keras.preprocessing.image import ImageDataGenerator\r\n",
        "\r\n",
        "from keras.optimizers import Adam\r\n",
        "from keras.models import Sequential\r\n",
        "from keras.layers import Dense, Conv2D , MaxPool2D , Flatten , Dropout , BatchNormalization\r\n",
        "from keras.callbacks import ReduceLROnPlateau"
      ],
      "execution_count": 17,
      "outputs": []
    },
    {
      "cell_type": "markdown",
      "metadata": {
        "id": "IHpPMlN438da"
      },
      "source": [
        "Loading Dataset and Labels"
      ]
    },
    {
      "cell_type": "code",
      "metadata": {
        "id": "DF5Elb6XgNrv"
      },
      "source": [
        "dataset = pd.read_csv(\"/content/A_Z Handwritten Data.csv\")\r\n",
        "y=dataset['0']\r\n",
        "del dataset['0']"
      ],
      "execution_count": 3,
      "outputs": []
    },
    {
      "cell_type": "markdown",
      "metadata": {
        "id": "2GmZvkde3_01"
      },
      "source": [
        "Number of images available per class"
      ]
    },
    {
      "cell_type": "code",
      "metadata": {
        "id": "k0Yhmc8Jg5pX",
        "colab": {
          "base_uri": "https://localhost:8080/",
          "height": 405
        },
        "outputId": "0e55d1f3-69ae-45a3-de52-1ac48a82d58c"
      },
      "source": [
        "plt.figure(figsize = (10,5))\r\n",
        "sns.countplot(y)"
      ],
      "execution_count": 4,
      "outputs": [
        {
          "output_type": "stream",
          "text": [
            "/usr/local/lib/python3.7/dist-packages/seaborn/_decorators.py:43: FutureWarning: Pass the following variable as a keyword arg: x. From version 0.12, the only valid positional argument will be `data`, and passing other arguments without an explicit keyword will result in an error or misinterpretation.\n",
            "  FutureWarning\n"
          ],
          "name": "stderr"
        },
        {
          "output_type": "execute_result",
          "data": {
            "text/plain": [
              "<matplotlib.axes._subplots.AxesSubplot at 0x7f627a727c50>"
            ]
          },
          "metadata": {
            "tags": []
          },
          "execution_count": 4
        },
        {
          "output_type": "display_data",
          "data": {
            "image/png": "[encoded data removed]",
            "text/plain": [
              "<Figure size 720x360 with 1 Axes>"
            ]
          },
          "metadata": {
            "tags": [],
            "needs_background": "light"
          }
        }
      ]
    },
    {
      "cell_type": "markdown",
      "metadata": {
        "id": "CtSHbsVN2Ct3"
      },
      "source": [
        "There are two ways to balance the dataset using sampling:\r\n",
        "\r\n",
        "* Undersampling — Deleting samples from the majority class.\r\n",
        "* Oversampling — Duplicating samples from the minority class\r\n",
        "\r\n",
        "As we have such high number of images, we'll using undersampling instead and cut-off the excess."
      ]
    },
    {
      "cell_type": "markdown",
      "metadata": {
        "id": "9_XoTx-F-fu-"
      },
      "source": [
        "The NeadMiss algorithm does Undersampling by looking at the class distribution and randomly eliminating samples from the larger class. When two points belonging to different classes are very close to each other in the distribution, this algorithm eliminates the datapoint of the larger class thereby trying to balance the distribution. "
      ]
    },
    {
      "cell_type": "code",
      "metadata": {
        "id": "AKuvZ9JTw_aC"
      },
      "source": [
        "nM = NearMiss()\r\n",
        "X_data, y_data = nM.fit_sample(dataset, y)"
      ],
      "execution_count": null,
      "outputs": []
    },
    {
      "cell_type": "markdown",
      "metadata": {
        "id": "atiHn4Qy4GbP"
      },
      "source": [
        "Now the dataset is balanced with equal number of images per class"
      ]
    },
    {
      "cell_type": "code",
      "metadata": {
        "id": "FOKE0_W1w5xT",
        "colab": {
          "base_uri": "https://localhost:8080/",
          "height": 390
        },
        "outputId": "20a5acc0-493d-4ab3-fc88-5399615dd36f"
      },
      "source": [
        "plt.figure(figsize = (10,5))\r\n",
        "sns.countplot(y_data)"
      ],
      "execution_count": 6,
      "outputs": [
        {
          "output_type": "stream",
          "text": [
            "/usr/local/lib/python3.7/dist-packages/seaborn/_decorators.py:43: FutureWarning: Pass the following variable as a keyword arg: x. From version 0.12, the only valid positional argument will be `data`, and passing other arguments without an explicit keyword will result in an error or misinterpretation.\n",
            "  FutureWarning\n"
          ],
          "name": "stderr"
        },
        {
          "output_type": "execute_result",
          "data": {
            "text/plain": [
              "<matplotlib.axes._subplots.AxesSubplot at 0x7f6278b08650>"
            ]
          },
          "metadata": {
            "tags": []
          },
          "execution_count": 6
        },
        {
          "output_type": "display_data",
          "data": {
            "image/png": "[encoded data removed]",
            "text/plain": [
              "<Figure size 720x360 with 1 Axes>"
            ]
          },
          "metadata": {
            "tags": [],
            "needs_background": "light"
          }
        }
      ]
    },
    {
      "cell_type": "markdown",
      "metadata": {
        "id": "2EM164DP6m1W"
      },
      "source": [
        "Total 29120 images of size 28*28 = 784"
      ]
    },
    {
      "cell_type": "code",
      "metadata": {
        "id": "0ugIyh_a5Rlo",
        "colab": {
          "base_uri": "https://localhost:8080/"
        },
        "outputId": "44ec9eba-29ea-4998-a999-4fd97c695d46"
      },
      "source": [
        "print(X_data.shape)\r\n",
        "print(y_data.shape)"
      ],
      "execution_count": 7,
      "outputs": [
        {
          "output_type": "stream",
          "text": [
            "(29120, 784)\n",
            "(29120,)\n"
          ],
          "name": "stdout"
        }
      ]
    },
    {
      "cell_type": "markdown",
      "metadata": {
        "id": "2WTnsZc63SUl"
      },
      "source": [
        "Label Binarizer is an SciKit Learn class that accepts Categorical data as input and returns an Numpy array."
      ]
    },
    {
      "cell_type": "code",
      "metadata": {
        "colab": {
          "base_uri": "https://localhost:8080/"
        },
        "id": "jlAaMt-42YRx",
        "outputId": "f5ab79e4-c0c1-48da-a81e-f573c66bcc62"
      },
      "source": [
        "lB = LabelBinarizer()\r\n",
        "y = lB.fit_transform(y_data)\r\n",
        "X_data = X_data / 255\r\n",
        "X_data = np.array(X_data)\r\n",
        "print(X_data.shape)\r\n",
        "X_data = X_data.reshape(-1,28,28,1)\r\n",
        "print(X_data.shape)\r\n",
        "print(y_data.shape)"
      ],
      "execution_count": 10,
      "outputs": [
        {
          "output_type": "stream",
          "text": [
            "(29120, 784)\n",
            "(29120, 28, 28, 1)\n",
            "(29120,)\n"
          ],
          "name": "stdout"
        }
      ]
    },
    {
      "cell_type": "markdown",
      "metadata": {
        "id": "pPUMJ_CF4IvQ"
      },
      "source": [
        "Showing few images:"
      ]
    },
    {
      "cell_type": "code",
      "metadata": {
        "colab": {
          "base_uri": "https://localhost:8080/",
          "height": 394
        },
        "id": "hzO554xs4LGg",
        "outputId": "43bb6809-157c-4cf4-b8b1-c42bf038f2e9"
      },
      "source": [
        "f, ax = plt.subplots(2,5)\r\n",
        "f.set_size_inches(10,10)\r\n",
        "k = 0\r\n",
        "for i in range(2):\r\n",
        "    for j in range(5):\r\n",
        "        ax[i,j].imshow(X_data[k].reshape(28,28), cmap='gray')\r\n",
        "        k += 1\r\n",
        "    plt.tight_layout()"
      ],
      "execution_count": 11,
      "outputs": [
        {
          "output_type": "display_data",
          "data": {
            "image/png": "[encoded data removed]",
            "text/plain": [
              "<Figure size 720x720 with 10 Axes>"
            ]
          },
          "metadata": {
            "tags": [],
            "needs_background": "light"
          }
        }
      ]
    },
    {
      "cell_type": "markdown",
      "metadata": {
        "id": "fvPYhGQ64RdO"
      },
      "source": [
        "Splitting into test and validation sets:"
      ]
    },
    {
      "cell_type": "code",
      "metadata": {
        "colab": {
          "base_uri": "https://localhost:8080/"
        },
        "id": "4voVocpy4UfD",
        "outputId": "a751d5af-b409-4654-c910-36547759b392"
      },
      "source": [
        "X_train, X_test, y_train, y_test = train_test_split(X_data, y, test_size=0.2)\r\n",
        "X_train, X_valid, y_train, y_valid = train_test_split(X_train, y_train, test_size=0.2)\r\n",
        "print(X_train.shape) \r\n",
        "print(X_test.shape)\r\n",
        "print(X_valid.shape) \r\n",
        "print(y_train.shape) \r\n",
        "print(y_test.shape)\r\n",
        "print(y_valid.shape)"
      ],
      "execution_count": 14,
      "outputs": [
        {
          "output_type": "stream",
          "text": [
            "(18636, 28, 28, 1)\n",
            "(5824, 28, 28, 1)\n",
            "(4660, 28, 28, 1)\n",
            "(18636, 26)\n",
            "(5824, 26)\n",
            "(4660, 26)\n"
          ],
          "name": "stdout"
        }
      ]
    },
    {
      "cell_type": "markdown",
      "metadata": {
        "id": "I98UnD6o5ivg"
      },
      "source": [
        "So we have 18636 images in training set, 5824 in testing set and 4660 in validation set."
      ]
    },
    {
      "cell_type": "markdown",
      "metadata": {
        "id": "836X3w3m4kB-"
      },
      "source": [
        "**Data Augmentation**:\r\n",
        "To reduce overfitting of model"
      ]
    },
    {
      "cell_type": "code",
      "metadata": {
        "id": "9EMfqqoz4wpd"
      },
      "source": [
        "dataGen = ImageDataGenerator(rotation_range=10,\r\n",
        "                             zoom_range=0.1,\r\n",
        "                             width_shift_range=0.1,\r\n",
        "                             height_shift_range=0.1)\r\n",
        "dataGen.fit(X_train)"
      ],
      "execution_count": 18,
      "outputs": []
    },
    {
      "cell_type": "markdown",
      "metadata": {
        "id": "1Cz8auuD6WII"
      },
      "source": [
        "Reduce learning rate when a metric has stopped improving."
      ]
    },
    {
      "cell_type": "code",
      "metadata": {
        "id": "kUW3L9zS5_xO"
      },
      "source": [
        "learning_rate_reduction = ReduceLROnPlateau(monitor='val_accuracy', patience = 2, \r\n",
        "                                            verbose=1,factor=0.5, min_lr=0.00001)"
      ],
      "execution_count": 22,
      "outputs": []
    },
    {
      "cell_type": "markdown",
      "metadata": {
        "id": "Y_re-Iiq6nz6"
      },
      "source": [
        "Creating our sequential, convolutional model:"
      ]
    },
    {
      "cell_type": "code",
      "metadata": {
        "colab": {
          "base_uri": "https://localhost:8080/"
        },
        "id": "pg-d_uWv6lYA",
        "outputId": "2ad3757a-1e7b-4425-f13c-36a7a8397f0d"
      },
      "source": [
        "model = Sequential()\r\n",
        "model.add(Conv2D(75 , (3,3) , strides = 1 , padding = 'same' , activation = 'relu' , input_shape = (28,28,1)))\r\n",
        "model.add(BatchNormalization())\r\n",
        "model.add(MaxPool2D((2,2) , strides = 2 , padding = 'same'))\r\n",
        "model.add(Conv2D(50 , (3,3) , strides = 1 , padding = 'same' , activation = 'relu'))\r\n",
        "model.add(Dropout(0.2))\r\n",
        "model.add(BatchNormalization())\r\n",
        "model.add(MaxPool2D((2,2) , strides = 2 , padding = 'same'))\r\n",
        "model.add(Conv2D(25 , (3,3) , strides = 1 , padding = 'same' , activation = 'relu'))\r\n",
        "model.add(BatchNormalization())\r\n",
        "model.add(MaxPool2D((2,2) , strides = 2 , padding = 'same'))\r\n",
        "model.add(Flatten())\r\n",
        "model.add(Dense(units = 512 , activation = 'relu'))\r\n",
        "model.add(Dropout(0.3))\r\n",
        "model.add(Dense(units = 26 , activation = 'softmax'))\r\n",
        "model.compile(optimizer = 'adam' , loss = 'categorical_crossentropy' , metrics = ['accuracy'])\r\n",
        "model.summary()"
      ],
      "execution_count": 23,
      "outputs": [
        {
          "output_type": "stream",
          "text": [
            "Model: \"sequential\"\n",
            "_________________________________________________________________\n",
            "Layer (type)                 Output Shape              Param #   \n",
            "=================================================================\n",
            "conv2d (Conv2D)              (None, 28, 28, 75)        750       \n",
            "_________________________________________________________________\n",
            "batch_normalization (BatchNo (None, 28, 28, 75)        300       \n",
            "_________________________________________________________________\n",
            "max_pooling2d (MaxPooling2D) (None, 14, 14, 75)        0         \n",
            "_________________________________________________________________\n",
            "conv2d_1 (Conv2D)            (None, 14, 14, 50)        33800     \n",
            "_________________________________________________________________\n",
            "dropout (Dropout)            (None, 14, 14, 50)        0         \n",
            "_________________________________________________________________\n",
            "batch_normalization_1 (Batch (None, 14, 14, 50)        200       \n",
            "_________________________________________________________________\n",
            "max_pooling2d_1 (MaxPooling2 (None, 7, 7, 50)          0         \n",
            "_________________________________________________________________\n",
            "conv2d_2 (Conv2D)            (None, 7, 7, 25)          11275     \n",
            "_________________________________________________________________\n",
            "batch_normalization_2 (Batch (None, 7, 7, 25)          100       \n",
            "_________________________________________________________________\n",
            "max_pooling2d_2 (MaxPooling2 (None, 4, 4, 25)          0         \n",
            "_________________________________________________________________\n",
            "flatten (Flatten)            (None, 400)               0         \n",
            "_________________________________________________________________\n",
            "dense (Dense)                (None, 512)               205312    \n",
            "_________________________________________________________________\n",
            "dropout_1 (Dropout)          (None, 512)               0         \n",
            "_________________________________________________________________\n",
            "dense_1 (Dense)              (None, 26)                13338     \n",
            "=================================================================\n",
            "Total params: 265,075\n",
            "Trainable params: 264,775\n",
            "Non-trainable params: 300\n",
            "_________________________________________________________________\n"
          ],
          "name": "stdout"
        }
      ]
    },
    {
      "cell_type": "markdown",
      "metadata": {
        "id": "sFSAO0sp6x6P"
      },
      "source": [
        "Training our model in augmented dataset:"
      ]
    },
    {
      "cell_type": "code",
      "metadata": {
        "colab": {
          "base_uri": "https://localhost:8080/"
        },
        "id": "Fu7HQHSH6ybU",
        "outputId": "14fdfe2d-b86d-4d50-e0f3-085f76899555"
      },
      "source": [
        "history = model.fit(dataGen.flow(X_train,y_train, batch_size = 128) ,epochs = 5 , \r\n",
        "                    validation_data = (X_valid, y_valid) , \r\n",
        "                    callbacks = [learning_rate_reduction])"
      ],
      "execution_count": 24,
      "outputs": [
        {
          "output_type": "stream",
          "text": [
            "Epoch 1/5\n",
            "146/146 [==============================] - 72s 484ms/step - loss: 1.6679 - accuracy: 0.5296 - val_loss: 2.9655 - val_accuracy: 0.0944\n",
            "Epoch 2/5\n",
            "146/146 [==============================] - 70s 477ms/step - loss: 0.3273 - accuracy: 0.9019 - val_loss: 2.1946 - val_accuracy: 0.2633\n",
            "Epoch 3/5\n",
            "146/146 [==============================] - 74s 510ms/step - loss: 0.2184 - accuracy: 0.9327 - val_loss: 0.7417 - val_accuracy: 0.7691\n",
            "Epoch 4/5\n",
            "146/146 [==============================] - 69s 475ms/step - loss: 0.1637 - accuracy: 0.9504 - val_loss: 0.1717 - val_accuracy: 0.9536\n",
            "Epoch 5/5\n",
            "146/146 [==============================] - 70s 476ms/step - loss: 0.1438 - accuracy: 0.9583 - val_loss: 0.1081 - val_accuracy: 0.9693\n"
          ],
          "name": "stdout"
        }
      ]
    },
    {
      "cell_type": "markdown",
      "metadata": {
        "id": "e3fuNdTp6-gL"
      },
      "source": [
        "**Statistics during model fitting:**"
      ]
    },
    {
      "cell_type": "code",
      "metadata": {
        "colab": {
          "base_uri": "https://localhost:8080/",
          "height": 573
        },
        "id": "dbbdNK3F69s0",
        "outputId": "f824c180-a9f2-4ac7-d2ac-8c883bff4e95"
      },
      "source": [
        "plt.figure(1)\r\n",
        "plt.plot(history.history['loss'])\r\n",
        "plt.plot(history.history['val_loss'])\r\n",
        "plt.legend(['training','validation'])\r\n",
        "plt.title('Loss')\r\n",
        "plt.xlabel('epoch')\r\n",
        "plt.figure(2)\r\n",
        "plt.plot(history.history['accuracy'])\r\n",
        "plt.plot(history.history['val_accuracy'])\r\n",
        "plt.legend(['training','validation'])\r\n",
        "plt.title('Accuracy')\r\n",
        "plt.xlabel('epoch')\r\n",
        "plt.show()"
      ],
      "execution_count": 25,
      "outputs": [
        {
          "output_type": "display_data",
          "data": {
            "image/png": "[encoded data removed]",
            "text/plain": [
              "<Figure size 432x288 with 1 Axes>"
            ]
          },
          "metadata": {
            "tags": [],
            "needs_background": "light"
          }
        },
        {
          "output_type": "display_data",
          "data": {
            "image/png": "[encoded data removed]",
            "text/plain": [
              "<Figure size 432x288 with 1 Axes>"
            ]
          },
          "metadata": {
            "tags": [],
            "needs_background": "light"
          }
        }
      ]
    },
    {
      "cell_type": "code",
      "metadata": {
        "colab": {
          "base_uri": "https://localhost:8080/"
        },
        "id": "BPIiFZ5v7Bkt",
        "outputId": "ca857494-17b3-4e10-acd9-7380acbb6687"
      },
      "source": [
        "score = model.evaluate(X_test,y_test,verbose=0)\r\n",
        "print('Test Score = ',score[0])\r\n",
        "print('Test Accuracy =', score[1])"
      ],
      "execution_count": 26,
      "outputs": [
        {
          "output_type": "stream",
          "text": [
            "Test Score =  0.10512766242027283\n",
            "Test Accuracy = 0.9721840620040894\n"
          ],
          "name": "stdout"
        }
      ]
    },
    {
      "cell_type": "markdown",
      "metadata": {
        "id": "nnPOw7T07JNS"
      },
      "source": [
        "## Testing our model on images:"
      ]
    },
    {
      "cell_type": "code",
      "metadata": {
        "colab": {
          "base_uri": "https://localhost:8080/"
        },
        "id": "ooyEqdPY7P-5",
        "outputId": "c362ec1f-66a5-4373-d374-8013a0b7c032"
      },
      "source": [
        "predictions =np.argmax(model.predict(X_test), axis=-1)\r\n",
        "print(\"Predicted Values\")\r\n",
        "print(predictions[:5]) \r\n",
        "print(\"Actual Labels\")\r\n",
        "y_test[0:5]"
      ],
      "execution_count": 39,
      "outputs": [
        {
          "output_type": "stream",
          "text": [
            "Predicted Values\n",
            "[ 3  8  1 20 14]\n",
            "Actual Labels\n"
          ],
          "name": "stdout"
        },
        {
          "output_type": "execute_result",
          "data": {
            "text/plain": [
              "array([[0, 0, 0, 1, 0, 0, 0, 0, 0, 0, 0, 0, 0, 0, 0, 0, 0, 0, 0, 0, 0, 0,\n",
              "        0, 0, 0, 0],\n",
              "       [0, 0, 0, 0, 0, 0, 0, 0, 1, 0, 0, 0, 0, 0, 0, 0, 0, 0, 0, 0, 0, 0,\n",
              "        0, 0, 0, 0],\n",
              "       [0, 1, 0, 0, 0, 0, 0, 0, 0, 0, 0, 0, 0, 0, 0, 0, 0, 0, 0, 0, 0, 0,\n",
              "        0, 0, 0, 0],\n",
              "       [0, 0, 0, 0, 0, 0, 0, 0, 0, 0, 0, 0, 0, 0, 0, 0, 0, 0, 0, 0, 1, 0,\n",
              "        0, 0, 0, 0],\n",
              "       [0, 0, 0, 0, 0, 0, 0, 0, 0, 0, 0, 0, 0, 0, 1, 0, 0, 0, 0, 0, 0, 0,\n",
              "        0, 0, 0, 0]])"
            ]
          },
          "metadata": {
            "tags": []
          },
          "execution_count": 39
        }
      ]
    },
    {
      "cell_type": "markdown",
      "metadata": {
        "id": "QdQkDd8N7vkY"
      },
      "source": [
        "Showing predicted values for 35 images:"
      ]
    },
    {
      "cell_type": "markdown",
      "metadata": {
        "id": "o1tRx35j8u3Z"
      },
      "source": [
        "Dictionationary for classes:"
      ]
    },
    {
      "cell_type": "code",
      "metadata": {
        "id": "IHJiaWXI8ub7"
      },
      "source": [
        "className = {0:'A', 1:'B', 2:'C', 3:'D', 4:'E',\r\n",
        "             5:'F', 6:'G', 7:'H', 8:'I', 9:'J',\r\n",
        "             10:'K', 11:'L', 12:'M', 13:'N', 14:'O',\r\n",
        "             15:'P', 16:'Q', 17:'R', 18:'S', 19:'T', \r\n",
        "             20:'U', 21:'V', 22:'W', 23:'X', 24:'Y',\r\n",
        "             25:'Z'}"
      ],
      "execution_count": 29,
      "outputs": []
    },
    {
      "cell_type": "code",
      "metadata": {
        "colab": {
          "base_uri": "https://localhost:8080/",
          "height": 278
        },
        "id": "e5nUUUC07njg",
        "outputId": "0d0a3258-e16d-49ad-9a6d-fe28e0ac77d9"
      },
      "source": [
        "for i in range(9):\r\n",
        "    plt.subplot(3,3,i+1)\r\n",
        "    plt.xticks([])\r\n",
        "    plt.yticks([])\r\n",
        "    plt.grid(False)\r\n",
        "    plt.imshow(X_test[i].reshape(28,28), cmap='gray')\r\n",
        "    plt.title(className[np.argmax(y_test[i])])\r\n",
        "    plt.xlabel(className[predictions[i]])\r\n",
        "plt.show()"
      ],
      "execution_count": 34,
      "outputs": [
        {
          "output_type": "display_data",
          "data": {
            "image/png": "[encoded data removed]",
            "text/plain": [
              "<Figure size 432x288 with 9 Axes>"
            ]
          },
          "metadata": {
            "tags": []
          }
        }
      ]
    },
    {
      "cell_type": "markdown",
      "metadata": {
        "id": "6QpUD8tu1Y4E"
      },
      "source": [
        "Links:\r\n",
        "* [Dependent and Independent Features: PluralSight](https://www.pluralsight.com/guides/importing-and-splitting-data-into-dependent-and-independent-features-for-ml)\r\n",
        "* [kaggle/ggarkoti02](https://www.kaggle.com/ggarkoti02/alphabet-recognizer)\r\n",
        "* [kaggle/yairhadad1](https://www.kaggle.com/yairhadad1/cnn-for-handwritten-alphabets)\r\n",
        "* [ReduceLROnPlateau](htthttps://keras.io/api/callbacks/reduce_lr_on_plateau/ps://)\r\n",
        "* [victorzhou - CNN Blog](https://victorzhou.com/blog/intro-to-cnns-part-1/)\r\n",
        "* [cnn-from-scratch - github/vzhou842](https://github.com/vzhou842/cnn-from-scratch)\r\n",
        "* [NearMiss](https://analyticsindiamag.com/using-near-miss-algorithm-for-imbalanced-datasets/)"
      ]
    }
  ]
}